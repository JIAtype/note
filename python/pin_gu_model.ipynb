{
 "cells": [
  {
   "cell_type": "markdown",
   "metadata": {},
   "source": [
    "分类任务的评估指标：\n",
    "\n",
    "准确率（Accuracy）：预测正确的样本比例。\n",
    "混淆矩阵（Confusion Matrix）：展示分类结果的详细情况。\n",
    "ROC 曲线和 AUC 值：评估分类器的性能。"
   ]
  },
  {
   "cell_type": "markdown",
   "metadata": {},
   "source": [
    "回归任务的评估指标：\n",
    "\n",
    "均方误差（MSE）：预测值与真实值之间的平均平方误差。\n",
    "R² 值：模型解释数据方差的比例。"
   ]
  }
 ],
 "metadata": {
  "language_info": {
   "name": "python"
  }
 },
 "nbformat": 4,
 "nbformat_minor": 2
}
