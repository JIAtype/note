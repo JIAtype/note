{
 "cells": [
  {
   "cell_type": "markdown",
   "metadata": {},
   "source": [
    "# 数值数据 处理"
   ]
  },
  {
   "cell_type": "markdown",
   "metadata": {},
   "source": [
    "数据探索\n",
    "* 在处理之前，先进行探索性数据分析（EDA）\n",
    "* 查看数据的分布情况\n",
    "* 检查异常值和缺失值\n",
    "\n",
    "选择合适的处理方法\n",
    "* 对于正态分布数据，使用StandardScaler\n",
    "* 对于有异常值的数据，使用RobustScaler\n",
    "* 对于需要限定范围的数据，使用MinMaxScaler\n",
    "\n",
    "注意事项\n",
    "* 在训练集上fit，在测试集上transform\n",
    "* 保存转换器的参数，用于后续预测\n",
    "* 处理缺失值时要考虑业务含义\n",
    "* 处理异常值时要谨慎，不要盲目删除"
   ]
  },
  {
   "cell_type": "markdown",
   "metadata": {},
   "source": [
    "## 标准化/归一化"
   ]
  },
  {
   "cell_type": "code",
   "execution_count": null,
   "metadata": {},
   "outputs": [],
   "source": [
    "import pandas as pd\n",
    "import numpy as np\n",
    "\n",
    "# 检查缺失值\n",
    "missing_values = df.isnull().sum()\n",
    "\n",
    "# 填充缺失值的几种方法\n",
    "# 使用均值填充\n",
    "df['列名'].fillna(df['列名'].mean())\n",
    "\n",
    "# 使用中位数填充\n",
    "df['列名'].fillna(df['列名'].median())\n",
    "\n",
    "# 使用众数填充\n",
    "df['列名'].fillna(df['列名'].mode()[0])\n",
    "\n",
    "# 使用前向填充\n",
    "df['列名'].fillna(method='ffill')\n",
    "\n",
    "# 使用后向填充\n",
    "df['列名'].fillna(method='bfill')"
   ]
  },
  {
   "cell_type": "markdown",
   "metadata": {},
   "source": [
    "## 异常值"
   ]
  },
  {
   "cell_type": "code",
   "execution_count": null,
   "metadata": {},
   "outputs": [],
   "source": [
    "# 使用IQR方法检测异常值\n",
    "def detect_outliers_iqr(data):\n",
    "    Q1 = data.quantile(0.25)\n",
    "    Q3 = data.quantile(0.75)\n",
    "    IQR = Q3 - Q1\n",
    "    lower_bound = Q1 - 1.5 * IQR\n",
    "    upper_bound = Q3 + 1.5 * IQR\n",
    "    return (data < lower_bound) | (data > upper_bound)\n",
    "\n",
    "# 使用Z-score方法检测异常值\n",
    "def detect_outliers_zscore(data, threshold=3):\n",
    "    z_scores = (data - data.mean()) / data.std()\n",
    "    return abs(z_scores) > threshold\n",
    "\n",
    "# 处理异常值\n",
    "# 方法1：删除异常值\n",
    "df = df[~detect_outliers_iqr(df['列名'])]\n",
    "\n",
    "# 方法2：将异常值替换为上下限\n",
    "def clip_outliers(data):\n",
    "    Q1 = data.quantile(0.25)\n",
    "    Q3 = data.quantile(0.75)\n",
    "    IQR = Q3 - Q1\n",
    "    lower_bound = Q1 - 1.5 * IQR\n",
    "    upper_bound = Q3 + 1.5 * IQR\n",
    "    return data.clip(lower=lower_bound, upper=upper_bound)"
   ]
  },
  {
   "cell_type": "markdown",
   "metadata": {},
   "source": [
    "## 特征变换"
   ]
  },
  {
   "cell_type": "code",
   "execution_count": null,
   "metadata": {},
   "outputs": [],
   "source": [
    "from sklearn.preprocessing import PowerTransformer, FunctionTransformer\n",
    "import numpy as np\n",
    "\n",
    "# 对数变换 - 处理偏斜数据\n",
    "df['log_列名'] = np.log1p(df['列名'])  # log1p = log(1+x)\n",
    "\n",
    "# Box-Cox变换 - 使数据更接近正态分布\n",
    "pt = PowerTransformer(method='box-cox')\n",
    "df['boxcox_列名'] = pt.fit_transform(df[['列名']])\n",
    "\n",
    "# 平方根变换\n",
    "df['sqrt_列名'] = np.sqrt(df['列名'])\n",
    "\n",
    "# 立方根变换\n",
    "df['cbrt_列名'] = np.cbrt(df['列名'])"
   ]
  },
  {
   "cell_type": "markdown",
   "metadata": {},
   "source": [
    "## 特征分箱"
   ]
  },
  {
   "cell_type": "code",
   "execution_count": null,
   "metadata": {},
   "outputs": [],
   "source": [
    "# 等宽分箱\n",
    "df['等宽分箱'] = pd.qcut(df['列名'], q=10, labels=False)\n",
    "\n",
    "# 等频分箱\n",
    "df['等频分箱'] = pd.cut(df['列名'], bins=10, labels=False)\n",
    "\n",
    "# 自定义分箱\n",
    "bins = [0, 18, 35, 50, 65, 100]\n",
    "labels = ['青少年', '青年', '中年', '中老年', '老年']\n",
    "df['年龄分组'] = pd.cut(df['年龄'], bins=bins, labels=labels)"
   ]
  },
  {
   "cell_type": "markdown",
   "metadata": {},
   "source": [
    "## 特征交互"
   ]
  },
  {
   "cell_type": "code",
   "execution_count": null,
   "metadata": {},
   "outputs": [],
   "source": [
    "# 创建多项式特征\n",
    "from sklearn.preprocessing import PolynomialFeatures\n",
    "poly = PolynomialFeatures(degree=2, include_bias=False)\n",
    "poly_features = poly.fit_transform(df[['特征1', '特征2']])\n",
    "\n",
    "# 基本数学运算\n",
    "df['特征1_乘_特征2'] = df['特征1'] * df['特征2']\n",
    "df['特征1_加_特征2'] = df['特征1'] + df['特征2']\n",
    "df['特征1_除_特征2'] = df['特征1'] / df['特征2']"
   ]
  },
  {
   "cell_type": "markdown",
   "metadata": {},
   "source": [
    "## 数据平衡（对于分类问题）"
   ]
  },
  {
   "cell_type": "code",
   "execution_count": null,
   "metadata": {},
   "outputs": [],
   "source": [
    "from imblearn.over_sampling import SMOTE\n",
    "from imblearn.under_sampling import RandomUnderSampler\n",
    "\n",
    "# 过采样\n",
    "smote = SMOTE(random_state=42)\n",
    "X_resampled, y_resampled = smote.fit_resample(X, y)\n",
    "\n",
    "# 欠采样\n",
    "under_sampler = RandomUnderSampler(random_state=42)\n",
    "X_resampled, y_resampled = under_sampler.fit_resample(X, y)"
   ]
  },
  {
   "cell_type": "markdown",
   "metadata": {},
   "source": [
    "# 类别数据 处理"
   ]
  },
  {
   "cell_type": "markdown",
   "metadata": {},
   "source": [
    "使用情景：\n",
    "* 如果类别之间有顺序关系（如：小、中、大），可以使用序数编码\n",
    "* 如果类别之间没有顺序关系，通常使用独热编码\n",
    "* 如果类别数量很多，可以考虑使用频率编码或目标编码\n",
    "* 如果需要保持数据的简单性，可以使用标签编码\n",
    "\n",
    "注意事项：\n",
    "* 处理缺失值：在编码之前，需要先处理缺失值\n",
    "* 新类别处理：在测试集中可能出现训练集中没有的类别，需要考虑如何处理\n",
    "* 维度灾难：使用独热编码时，如果类别太多，可能会导致特征维度剧增"
   ]
  },
  {
   "cell_type": "markdown",
   "metadata": {},
   "source": [
    "## 标签编码 (Label Encoding)"
   ]
  },
  {
   "cell_type": "code",
   "execution_count": null,
   "metadata": {},
   "outputs": [],
   "source": [
    "from sklearn.preprocessing import LabelEncoder\n",
    "\n",
    "# 创建编码器\n",
    "label_encoder = LabelEncoder()\n",
    "\n",
    "# 假设我们有一列类别数据\n",
    "categories = ['红色', '蓝色', '绿色', '红色', '蓝色']\n",
    "\n",
    "# 进行编码\n",
    "encoded_categories = label_encoder.fit_transform(categories)\n",
    "# 结果会是: [2, 0, 1, 2, 0]"
   ]
  },
  {
   "cell_type": "markdown",
   "metadata": {},
   "source": [
    "## 独热编码 (One-Hot Encoding)"
   ]
  },
  {
   "cell_type": "code",
   "execution_count": null,
   "metadata": {},
   "outputs": [],
   "source": [
    "import pandas as pd\n",
    "\n",
    "# 假设我们有一个DataFrame\n",
    "df = pd.DataFrame({\n",
    "    '颜色': ['红色', '蓝色', '绿色', '红色', '蓝色']\n",
    "})\n",
    "\n",
    "# 使用pandas的get_dummies进行独热编码\n",
    "encoded_df = pd.get_dummies(df['颜色'])\n",
    "\n",
    "# 结果是\n",
    "#       红色     绿色     蓝色\n",
    "# 0   True  False  False\n",
    "# 1  False  False   True\n",
    "# 2  False   True  False\n",
    "# 3   True  False  False\n",
    "# 4  False  False   True"
   ]
  },
  {
   "cell_type": "markdown",
   "metadata": {},
   "source": [
    "## 序数编码 (Ordinal Encoding)"
   ]
  },
  {
   "cell_type": "code",
   "execution_count": null,
   "metadata": {},
   "outputs": [],
   "source": [
    "from sklearn.preprocessing import OrdinalEncoder\n",
    "\n",
    "# 创建编码器\n",
    "ordinal_encoder = OrdinalEncoder()\n",
    "\n",
    "# 对于有顺序意义的类别（比如：小，中，大）\n",
    "categories = [['小', '中', '大']]\n",
    "ordinal_encoder.fit([['小'], ['中'], ['大']])"
   ]
  },
  {
   "cell_type": "markdown",
   "metadata": {},
   "source": [
    "## 频率编码 (Frequency Encoding)"
   ]
  },
  {
   "cell_type": "code",
   "execution_count": null,
   "metadata": {},
   "outputs": [],
   "source": [
    "def frequency_encode(data):\n",
    "    # 计算每个类别的频率\n",
    "    freq_encoding = data.value_counts(normalize=True).to_dict()\n",
    "    return data.map(freq_encoding)\n",
    "\n",
    "# 使用示例\n",
    "df['颜色_freq'] = frequency_encode(df['颜色'])"
   ]
  },
  {
   "cell_type": "markdown",
   "metadata": {},
   "source": [
    "## 目标编码 (Target Encoding)"
   ]
  },
  {
   "cell_type": "code",
   "execution_count": null,
   "metadata": {},
   "outputs": [],
   "source": [
    "from category_encoders import TargetEncoder\n",
    "\n",
    "# 创建编码器\n",
    "target_encoder = TargetEncoder()\n",
    "\n",
    "# 假设X是特征（类别列），y是目标变量\n",
    "X_encoded = target_encoder.fit_transform(X, y)"
   ]
  },
  {
   "cell_type": "markdown",
   "metadata": {},
   "source": [
    "# 时间数据处理"
   ]
  },
  {
   "cell_type": "markdown",
   "metadata": {},
   "source": [
    "可能需要处理时区\n",
    "\n",
    "* 如果需要进行时间序列预测，通常需要提取周期性特征\n",
    "* 如果是做分类任务，可能需要将时间转换为分类特征\n",
    "* 如果要分析趋势，可能需要使用滑动窗口特征"
   ]
  },
  {
   "cell_type": "markdown",
   "metadata": {},
   "source": [
    "## 使用 Pandas 转换时间格式\n"
   ]
  },
  {
   "cell_type": "code",
   "execution_count": null,
   "metadata": {},
   "outputs": [
    {
     "ename": "",
     "evalue": "",
     "output_type": "error",
     "traceback": [
      "\u001b[1;31mRunning cells with 'Python 3.11.9' requires the ipykernel package.\n",
      "\u001b[1;31mRun the following command to install 'ipykernel' into the Python environment. \n",
      "\u001b[1;31mCommand: 'c:/Users/splsip258/AppData/Local/Microsoft/WindowsApps/python3.11.exe -m pip install ipykernel -U --user --force-reinstall'"
     ]
    }
   ],
   "source": [
    "import pandas as pd\n",
    "\n",
    "# 将字符串转换为datetime格式\n",
    "df['时间列'] = pd.to_datetime(df['时间列'])\n",
    "\n",
    "# 如果数据格式特殊，可以指定格式\n",
    "df['时间列'] = pd.to_datetime(df['时间列'], format='%Y-%m-%d %H:%M:%S')"
   ]
  },
  {
   "cell_type": "markdown",
   "metadata": {},
   "source": [
    "## 提取时间特征"
   ]
  },
  {
   "cell_type": "code",
   "execution_count": null,
   "metadata": {},
   "outputs": [],
   "source": [
    "# 假设df['时间列']已经是datetime格式\n",
    "df['年'] = df['时间列'].dt.year\n",
    "df['月'] = df['时间列'].dt.month\n",
    "df['日'] = df['时间列'].dt.day\n",
    "df['星期'] = df['时间列'].dt.dayofweek  # 0-6，0代表周一\n",
    "df['小时'] = df['时间列'].dt.hour\n",
    "df['分钟'] = df['时间列'].dt.minute\n",
    "df['是否周末'] = df['时间列'].dt.dayofweek.isin([5,6]).astype(int)"
   ]
  },
  {
   "cell_type": "markdown",
   "metadata": {},
   "source": [
    "## 时间差计算"
   ]
  },
  {
   "cell_type": "code",
   "execution_count": null,
   "metadata": {},
   "outputs": [],
   "source": [
    "# 计算两个时间之间的差值\n",
    "df['时间差'] = df['时间列'] - df['时间列'].shift(1)\n",
    "\n",
    "# 转换时间差为具体数值（如天数、小时数等）\n",
    "df['天数差'] = df['时间差'].dt.days\n",
    "df['小时差'] = df['时间差'].dt.total_seconds() / 3600"
   ]
  },
  {
   "cell_type": "markdown",
   "metadata": {},
   "source": [
    "## 时间周期特征"
   ]
  },
  {
   "cell_type": "code",
   "execution_count": null,
   "metadata": {},
   "outputs": [],
   "source": [
    "# 季节编码\n",
    "df['季节'] = df['时间列'].dt.quarter\n",
    "\n",
    "# 月份的正弦和余弦转换（循环特征）\n",
    "df['月份_sin'] = np.sin(2 * np.pi * df['时间列'].dt.month/12)\n",
    "df['月份_cos'] = np.cos(2 * np.pi * df['时间列'].dt.month/12)\n",
    "\n",
    "# 小时的周期性特征\n",
    "df['小时_sin'] = np.sin(2 * np.pi * df['时间列'].dt.hour/24)\n",
    "df['小时_cos'] = np.cos(2 * np.pi * df['时间列'].dt.hour/24)"
   ]
  },
  {
   "cell_type": "markdown",
   "metadata": {},
   "source": [
    "## 时间窗口统计"
   ]
  },
  {
   "cell_type": "code",
   "execution_count": null,
   "metadata": {},
   "outputs": [],
   "source": [
    "# 按照时间窗口进行重采样\n",
    "# 每小时统计\n",
    "hourly_stats = df.resample('H', on='时间列').mean()\n",
    "\n",
    "# 每天统计\n",
    "daily_stats = df.resample('D', on='时间列').mean()\n",
    "\n",
    "# 每月统计\n",
    "monthly_stats = df.resample('M', on='时间列').mean()"
   ]
  },
  {
   "cell_type": "markdown",
   "metadata": {},
   "source": [
    "## 滑动窗口特征"
   ]
  },
  {
   "cell_type": "code",
   "execution_count": null,
   "metadata": {},
   "outputs": [],
   "source": [
    "# 设置时区\n",
    "df['时间列'] = df['时间列'].dt.tz_localize('UTC')\n",
    "# 转换时区\n",
    "df['时间列'] = df['时间列'].dt.tz_convert('Asia/Shanghai')"
   ]
  }
 ],
 "metadata": {
  "kernelspec": {
   "display_name": "Python 3",
   "language": "python",
   "name": "python3"
  },
  "language_info": {
   "name": "python",
   "version": "3.11.9"
  }
 },
 "nbformat": 4,
 "nbformat_minor": 2
}
