{
 "cells": [
  {
   "cell_type": "markdown",
   "metadata": {},
   "source": [
    "# 读取带有时间列的数据"
   ]
  },
  {
   "cell_type": "code",
   "execution_count": null,
   "metadata": {},
   "outputs": [],
   "source": [
    "# 指定了 parse_dates 参数来解析 TIMESTAMP 列中的日期数据。\n",
    "ifms_anl = pd.read_csv('data.csv', parse_dates=['TIMESTAMP'])"
   ]
  },
  {
   "cell_type": "markdown",
   "metadata": {},
   "source": [
    "# 查看基本信息"
   ]
  },
  {
   "cell_type": "code",
   "execution_count": null,
   "metadata": {},
   "outputs": [],
   "source": [
    "def data_basic_information(df):\n",
    "\n",
    "    pd.set_option('display.max_columns', None)\n",
    "    pd.set_option('display.max_rows', None)\n",
    "\n",
    "    print(f\"数据行数: {df.shape[0]}\")\n",
    "    print(f\"数据列数: {df.shape[1]}\") \n",
    "\n",
    "    dtypes = df.dtypes.value_counts()\n",
    "    print(\"\\n数据类型分布:\")\n",
    "    for dtype, count in dtypes.items():\n",
    "        print(f\"- {dtype}: {count}列\")\n",
    "\n",
    "    print(\"\\n列信息:\")\n",
    "    column_info = pd.DataFrame({\n",
    "        '数据类型': df.dtypes,\n",
    "        '非空值数量': df.count(),\n",
    "        '空值数量': df.isnull().sum(),\n",
    "        '空值百分比': (df.isnull().sum() / len(df) * 100).round(2),\n",
    "        '唯一值数量': df.nunique(),\n",
    "        '唯一值': {column: df[column].unique() for column in df.columns}\n",
    "    })\n",
    "    display(column_info)\n",
    "\n",
    "    print(\"\\n数值列的统计描述:\")\n",
    "    display(df.describe().T)\n",
    "\n",
    "    cat_columns = df.select_dtypes(include=['object', 'category']).columns\n",
    "    if not cat_columns.empty:\n",
    "        print(\"\\n分类列的统计描述:\")\n",
    "        cat_stats = pd.DataFrame({\n",
    "            '唯一值数量': df[cat_columns].nunique(),\n",
    "            '最常见值': [df[col].value_counts().index[0] if not df[col].value_counts().empty else None for col in cat_columns],\n",
    "            '最常见值频次': [df[col].value_counts().iloc[0] if not df[col].value_counts().empty else 0 for col in cat_columns],\n",
    "            '最常见值占比': [(df[col].value_counts().iloc[0] / df[col].count() * 100).round(2) if not df[col].value_counts().empty else 0 for col in cat_columns]\n",
    "        })\n",
    "        cat_stats['最常见值占比'] = cat_stats['最常见值占比'].astype(str) + '%'\n",
    "        display(cat_stats)"
   ]
  },
  {
   "cell_type": "markdown",
   "metadata": {},
   "source": [
    "# 转换二元数据为targe编码，保存为target列"
   ]
  },
  {
   "cell_type": "code",
   "execution_count": null,
   "metadata": {},
   "outputs": [],
   "source": [
    "from sklearn.preprocessing import LabelEncoder\n",
    "\n",
    "def target_encoded(df):\n",
    "    le = LabelEncoder()\n",
    "    df['target'] = le.fit_transform(df['acnc'])\n",
    "    print(\"类别编码对应关系：\")\n",
    "    for i, label in enumerate(le.classes_):\n",
    "        print(f\"{label} -> {i}\")\n",
    "    return df"
   ]
  },
  {
   "cell_type": "markdown",
   "metadata": {},
   "source": [
    "# 丢弃不用的列"
   ]
  },
  {
   "cell_type": "code",
   "execution_count": null,
   "metadata": {},
   "outputs": [],
   "source": [
    "def drop_useless_columns(df):\n",
    "    \n",
    "    # 丢弃唯一值数量为 1 的列\n",
    "    unique_counts = df.nunique()\n",
    "    columns_to_drop = unique_counts[unique_counts == 1].index\n",
    "    df = df.drop(columns=columns_to_drop)\n",
    "\n",
    "    # 丢弃 全部为NaN 的列\n",
    "    columns_to_drop = df.columns[df.isna().all()]\n",
    "    df = df.drop(columns=columns_to_drop)\n",
    "\n",
    "    # 丢弃object 类型的列\n",
    "    object_columns = df.select_dtypes(include=['object']).columns\n",
    "    df = df.drop(columns=object_columns)\n",
    "\n",
    "    # 丢弃 datetime64[ns] 类型的列\n",
    "    datetime_columns = df.select_dtypes(include=['datetime64[ns]']).columns\n",
    "    df = df.drop(columns=datetime_columns)\n",
    "\n",
    "    # 丢弃第 5 到第 11 列（索引从 0 开始，第 5 列的索引是 4，第 11 列的索引是 10）。\n",
    "    df = df.drop(df.columns[4:11], axis=1)\n",
    "    # 丢弃第 6 到第 10 列（索引从 0 开始，第 6 列的索引是 5，第 10 列的索引是 9）。\n",
    "    df = df.drop(df.columns[5:10], axis=1)\n",
    "\n",
    "    return df"
   ]
  },
  {
   "cell_type": "markdown",
   "metadata": {},
   "source": [
    "# 根据相关性系数可视化相关性热力图（Correlation Heatmap）"
   ]
  },
  {
   "cell_type": "markdown",
   "metadata": {},
   "source": [
    "相关性系数（Correlation Coefficient）的取值范围是[−1,1]，其含义如下：\n",
    "* 1：完全正相关，表示两列的变化方向完全一致。\n",
    "* -1：完全负相关，表示两列的变化方向完全相反。\n",
    "* 0：无相关性，表示两列之间没有线性关系。"
   ]
  },
  {
   "cell_type": "markdown",
   "metadata": {},
   "source": [
    "热力图的颜色\n",
    "* 颜色深浅：颜色越深（通常为红色），表示相关性越强；颜色越浅（通常为蓝色），表示相关性越弱。\n",
    "* 颜色方向：红色通常表示正相关，蓝色通常表示负相关。"
   ]
  },
  {
   "cell_type": "markdown",
   "metadata": {},
   "source": [
    "对角线\n",
    "* 热力图的对角线通常是深色的，因为每列与自身的相关性为 1。"
   ]
  },
  {
   "cell_type": "markdown",
   "metadata": {},
   "source": [
    "解读步骤\n",
    "\n",
    "* 强相关性：\n",
    "寻找颜色较深的区域，这些区域对应的列之间相关性较强。\n",
    "* 弱相关性：\n",
    "寻找颜色较浅的区域，这些区域对应的列之间相关性较弱。\n",
    "* 负相关性：\n",
    "寻找蓝色区域，这些区域对应的列之间负相关。\n",
    "* 无相关性：\n",
    "寻找接近白色的区域，这些区域对应的列之间无相关性。"
   ]
  },
  {
   "cell_type": "code",
   "execution_count": null,
   "metadata": {},
   "outputs": [],
   "source": [
    "import matplotlib.pyplot as plt\n",
    "import seaborn as sns\n",
    "\n",
    "def correlation_heat_map(df):\n",
    "    correlation_matrix = df.corr()\n",
    "    # 根据结果适量调整图表大小\n",
    "    plt.figure(figsize=(30, 30))\n",
    "    sns.heatmap(correlation_matrix, annot=True, cmap='coolwarm')\n",
    "    plt.title('Correlation Heatmap')\n",
    "    plt.show()"
   ]
  },
  {
   "cell_type": "markdown",
   "metadata": {},
   "source": [
    "# 改变列名"
   ]
  },
  {
   "cell_type": "code",
   "execution_count": null,
   "metadata": {},
   "outputs": [],
   "source": [
    "# 改变列名\n",
    "df1 = df1.rename(columns={\n",
    "    'plc0': 'c_pv_prewash', \n",
    "    'plc6': 'c_sp_prewash', \n",
    "    'plc1': 'c_pv_regeneration', \n",
    "    'plc2': 'c_pv_regeneration_oil_in', \n",
    "    'plc3': 'c_pv_regeneration_oil_out', \n",
    "    'plc5': 'mv_pv_prewash', \n",
    "    'plc4': 'c_pv_rinse',\n",
    "    'plc7': 'c_sp_rinse',\n",
    "    'plc8': 'pa_vacuum_dry',\n",
    "    'plc9': 'kpa_prewash'\n",
    "    })\n",
    "\n",
    "# 保存为 CSV 文件\n",
    "df1.to_csv('data/data_1prewash.csv', index=False)"
   ]
  },
  {
   "cell_type": "markdown",
   "metadata": {},
   "source": [
    "# 标准化之后做PCA"
   ]
  },
  {
   "cell_type": "code",
   "execution_count": null,
   "metadata": {},
   "outputs": [],
   "source": [
    "# 标准化数据\n",
    "\n",
    "from sklearn.preprocessing import StandardScaler\n",
    "\n",
    "scaler = StandardScaler()\n",
    "X_scaled = scaler.fit_transform(X)"
   ]
  },
  {
   "cell_type": "code",
   "execution_count": null,
   "metadata": {},
   "outputs": [],
   "source": [
    "from sklearn.decomposition import PCA\n",
    "\n",
    "# 初始化 PCA，设置降维后的维度\n",
    "pca = PCA(n_components=2)  # 降维到 2 维\n",
    "X_pca = pca.fit_transform(X_scaled)"
   ]
  },
  {
   "cell_type": "code",
   "execution_count": null,
   "metadata": {},
   "outputs": [],
   "source": [
    "# 解释 PCA 结果\n",
    "print(\"降维后的数据形状:\", X_pca.shape)\n",
    "print(\"每个主成分解释的方差比例:\", pca.explained_variance_ratio_)\n",
    "print(\"主成分的方向:\\n\", pca.components_)\n",
    "\n",
    "# 可视化降维结果\n",
    "plt.scatter(X_pca[:, 0], X_pca[:, 1])\n",
    "plt.xlabel('PC1')\n",
    "plt.ylabel('PC2')\n",
    "plt.title('PCA Result')\n",
    "plt.show()"
   ]
  },
  {
   "cell_type": "markdown",
   "metadata": {},
   "source": [
    "# 显示结果的格式设置"
   ]
  },
  {
   "cell_type": "code",
   "execution_count": null,
   "metadata": {},
   "outputs": [],
   "source": [
    "pd.set_option('display.max_rows', None)  # 显示所有行\n",
    "pd.set_option('display.max_columns', None)  # 显示所有列"
   ]
  },
  {
   "cell_type": "code",
   "execution_count": null,
   "metadata": {},
   "outputs": [],
   "source": [
    "# 禁用科学计数法\n",
    "pd.set_option('display.float_format', '{:.2f}'.format)"
   ]
  },
  {
   "cell_type": "code",
   "execution_count": null,
   "metadata": {},
   "outputs": [],
   "source": [
    "# 保存为 CSV 文件\n",
    "df1.to_csv('data/data_1prewash.csv', index=False)"
   ]
  }
 ],
 "metadata": {
  "language_info": {
   "name": "python"
  }
 },
 "nbformat": 4,
 "nbformat_minor": 2
}
